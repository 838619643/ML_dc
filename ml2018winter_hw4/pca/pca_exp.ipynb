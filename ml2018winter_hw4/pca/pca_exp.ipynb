{
 "cells": [
  {
   "cell_type": "markdown",
   "metadata": {},
   "source": [
    "# Principal Component Analysis\n",
    "*Complete and hand in this completed worksheet (including its outputs and any supporting code outside of the worksheet) with your assignment submission. Please check the pdf file for more details.*\n",
    "\n",
    "In this exercise you will:\n",
    "    \n",
    "- implement **Principal Component Analysis** and apply it to **restore rotated CAPTCHA**\n",
    "- play with **Eigenface** by applying PCA on a real world face dataset\n",
    "- use PCA to do **dimension reduction**. Evaluate the loss of information qualitatively and quantitatively\n",
    "\n",
    "Please note that **YOU CANNOT USE ANY MACHINE LEARNING PACKAGE SUCH AS SKLEARN** for any homework, unless you are asked to."
   ]
  },
  {
   "cell_type": "code",
   "execution_count": 1,
   "metadata": {},
   "outputs": [],
   "source": [
    "# some basic imports\n",
    "import scipy.io as sio\n",
    "import numpy as np\n",
    "import matplotlib.pyplot as plt\n",
    "import math\n",
    "\n",
    "%matplotlib inline\n",
    "\n",
    "%load_ext autoreload\n",
    "%autoreload 2"
   ]
  },
  {
   "cell_type": "markdown",
   "metadata": {},
   "source": [
    "## Now let's hack the rotated CAPTCHA!"
   ]
  },
  {
   "cell_type": "code",
   "execution_count": 50,
   "metadata": {
    "scrolled": true
   },
   "outputs": [
    {
     "name": "stdout",
     "output_type": "stream",
     "text": [
      "3328\n",
      "2010\n"
     ]
    },
    {
     "name": "stderr",
     "output_type": "stream",
     "text": [
      "C:\\Users\\ly\\Desktop\\ML_dc\\ml2018winter_hw4\\pca\\hack_pca.py:20: ComplexWarning: Casting complex values to real discards the imaginary part\n",
      "  base = np.matmul(img_r, eigvec).astype(np.int64)\n"
     ]
    },
    {
     "ename": "IndexError",
     "evalue": "index -89 is out of bounds for axis 0 with size 52",
     "output_type": "error",
     "traceback": [
      "\u001b[1;31m---------------------------------------------------------------------------\u001b[0m",
      "\u001b[1;31mIndexError\u001b[0m                                Traceback (most recent call last)",
      "\u001b[1;32m<ipython-input-50-3ebc7dd38030>\u001b[0m in \u001b[0;36m<module>\u001b[1;34m\u001b[0m\n\u001b[0;32m      2\u001b[0m \u001b[1;33m\u001b[0m\u001b[0m\n\u001b[0;32m      3\u001b[0m \u001b[1;31m# Hack different images yourself\u001b[0m\u001b[1;33m\u001b[0m\u001b[1;33m\u001b[0m\u001b[1;33m\u001b[0m\u001b[0m\n\u001b[1;32m----> 4\u001b[1;33m \u001b[0mimg\u001b[0m \u001b[1;33m=\u001b[0m \u001b[0mhack_pca\u001b[0m\u001b[1;33m(\u001b[0m\u001b[1;34m'1.gif'\u001b[0m\u001b[1;33m)\u001b[0m\u001b[1;33m\u001b[0m\u001b[1;33m\u001b[0m\u001b[0m\n\u001b[0m\u001b[0;32m      5\u001b[0m \u001b[0mplt\u001b[0m\u001b[1;33m.\u001b[0m\u001b[0mimshow\u001b[0m\u001b[1;33m(\u001b[0m\u001b[0mimg\u001b[0m\u001b[1;33m)\u001b[0m\u001b[1;33m\u001b[0m\u001b[1;33m\u001b[0m\u001b[0m\n",
      "\u001b[1;32m~\\Desktop\\ML_dc\\ml2018winter_hw4\\pca\\hack_pca.py\u001b[0m in \u001b[0;36mhack_pca\u001b[1;34m(filename)\u001b[0m\n\u001b[0;32m     20\u001b[0m     \u001b[0mbase\u001b[0m \u001b[1;33m=\u001b[0m \u001b[0mnp\u001b[0m\u001b[1;33m.\u001b[0m\u001b[0mmatmul\u001b[0m\u001b[1;33m(\u001b[0m\u001b[0mimg_r\u001b[0m\u001b[1;33m,\u001b[0m \u001b[0meigvec\u001b[0m\u001b[1;33m)\u001b[0m\u001b[1;33m.\u001b[0m\u001b[0mastype\u001b[0m\u001b[1;33m(\u001b[0m\u001b[0mnp\u001b[0m\u001b[1;33m.\u001b[0m\u001b[0mint64\u001b[0m\u001b[1;33m)\u001b[0m\u001b[1;33m\u001b[0m\u001b[1;33m\u001b[0m\u001b[0m\n\u001b[0;32m     21\u001b[0m \u001b[1;33m\u001b[0m\u001b[0m\n\u001b[1;32m---> 22\u001b[1;33m     \u001b[1;32mreturn\u001b[0m \u001b[0mimg_r\u001b[0m\u001b[1;33m[\u001b[0m\u001b[0mbase\u001b[0m\u001b[1;33m]\u001b[0m\u001b[1;33m\u001b[0m\u001b[1;33m\u001b[0m\u001b[0m\n\u001b[0m\u001b[0;32m     23\u001b[0m     \u001b[1;31m# end answer\u001b[0m\u001b[1;33m\u001b[0m\u001b[1;33m\u001b[0m\u001b[1;33m\u001b[0m\u001b[0m\n",
      "\u001b[1;31mIndexError\u001b[0m: index -89 is out of bounds for axis 0 with size 52"
     ]
    }
   ],
   "source": [
    "from hack_pca import hack_pca\n",
    "\n",
    "# Hack different images yourself\n",
    "img = hack_pca('1.gif')\n",
    "plt.imshow(img)"
   ]
  },
  {
   "cell_type": "markdown",
   "metadata": {},
   "source": [
    "## Apply PCA on face image"
   ]
  },
  {
   "cell_type": "code",
   "execution_count": null,
   "metadata": {},
   "outputs": [],
   "source": [
    "# load data\n",
    "ORL_data = sio.loadmat('ORL_data.mat')\n",
    "fea_Train = ORL_data['fea_Train']\n",
    "gnd_Train = ORL_data['gnd_Train'].reshape(-1)\n",
    "fea_Test = ORL_data['fea_Test']\n",
    "gnd_Test = ORL_data['gnd_Test'].reshape(-1)\n",
    "# YOUR CODE HERE\n",
    "\n",
    "# 1. Feature preprocessing\n",
    "# begin answer\n",
    "\n",
    "# end answer\n",
    "from show_face import show_face\n",
    "show_face(fea_Train)"
   ]
  },
  {
   "cell_type": "code",
   "execution_count": null,
   "metadata": {},
   "outputs": [],
   "source": [
    "# 2. Run PCA\n",
    "# begin answer\n",
    "\n",
    "# end answer\n",
    "# 3. Visualize eigenface\n",
    "# begin answer\n",
    "\n",
    "# end answer"
   ]
  },
  {
   "cell_type": "code",
   "execution_count": null,
   "metadata": {},
   "outputs": [],
   "source": [
    "# 4. Project data on to low dimensional space\n",
    "# begin answer\n",
    "\n",
    "# end answer\n",
    "\n",
    "# 5. Run KNN in low dimensional space\n",
    "# begin answer\n",
    "\n",
    "# end answer\n",
    "# 6. Recover face images form low dimensional space, visualize them\n",
    "# begin answer\n",
    "\n",
    "# end answer  "
   ]
  },
  {
   "cell_type": "markdown",
   "metadata": {},
   "source": [
    "## You are encouraged to apply LDA on this dataset!"
   ]
  },
  {
   "cell_type": "code",
   "execution_count": null,
   "metadata": {},
   "outputs": [],
   "source": [
    "from LDA import LDA\n",
    "\n",
    "# Your code here\n",
    "# begin answer\n",
    "\n",
    "# end answer"
   ]
  }
 ],
 "metadata": {
  "kernelspec": {
   "display_name": "Python 3",
   "language": "python",
   "name": "python3"
  },
  "language_info": {
   "codemirror_mode": {
    "name": "ipython",
    "version": 3
   },
   "file_extension": ".py",
   "mimetype": "text/x-python",
   "name": "python",
   "nbconvert_exporter": "python",
   "pygments_lexer": "ipython3",
   "version": "3.6.7"
  }
 },
 "nbformat": 4,
 "nbformat_minor": 2
}
